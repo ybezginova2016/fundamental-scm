{
 "cells": [
  {
   "cell_type": "code",
   "execution_count": 1,
   "metadata": {
    "pycharm": {
     "name": "#%%\n"
    }
   },
   "outputs": [],
   "source": [
    "'''\n",
    "a) Create a list called 'products' with the following items: \n",
    "'SHORT HALTER', 'LACE INSET MACI', 'MAXI OMBRE', 'MAXI EMB DRESS', 'SLEEEVELESS DRESS', 'TIE DYE ROMPER', 'ROMPER', 'OMBRE MAXI W/LATICE WORK', 'TIE DYE WIDE LEG PANT'\n",
    "'''\n",
    "\n",
    "products = ['SHORT HALTER', 'LACE INSET MACI', 'MAXI OMBRE', 'MAXI EMB DRESS', 'SLEEEVELESS DRESS', 'TIE DYE ROMPER',\n",
    "            'ROMPER', 'OMBRE MAXI W/LATICE WORK', 'TIE DYE WIDE LEG PANT']"
   ]
  },
  {
   "cell_type": "code",
   "execution_count": null,
   "metadata": {
    "pycharm": {
     "name": "#%%\n"
    }
   },
   "outputs": [],
   "source": [
    "'''\n",
    "b) Then, store the 3rd-5th items in another list called 'product_subset'.\n",
    "'''\n",
    "\n",
    "product_subset = products[2:5]"
   ]
  },
  {
   "cell_type": "code",
   "execution_count": null,
   "metadata": {
    "pycharm": {
     "name": "#%%\n"
    }
   },
   "outputs": [],
   "source": [
    "'''\n",
    "c) Append the last element of \"products\" to \"product_subset\"\n",
    "'''\n",
    "\n",
    "product_subset.append(products[-1])"
   ]
  }
 ],
 "metadata": {
  "kernelspec": {
   "display_name": "Python 3",
   "language": "python",
   "name": "python3"
  },
  "language_info": {
   "codemirror_mode": {
    "name": "ipython",
    "version": 3
   },
   "file_extension": ".py",
   "mimetype": "text/x-python",
   "name": "python",
   "nbconvert_exporter": "python",
   "pygments_lexer": "ipython3",
   "version": "3.7.6"
  }
 },
 "nbformat": 4,
 "nbformat_minor": 4
}